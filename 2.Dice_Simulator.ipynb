{
 "cells": [
  {
   "cell_type": "markdown",
   "id": "b224cde7",
   "metadata": {},
   "source": [
    "# Project:\n",
    "\n",
    "    Create a program that simulates rolling dice and display the result:"
   ]
  },
  {
   "cell_type": "code",
   "execution_count": null,
   "id": "ec7436fe",
   "metadata": {},
   "outputs": [],
   "source": [
    "import random\n",
    "\n",
    "def roll_dice():\n",
    "    # Rolling the dice1 and dice 2 using random module\n",
    "    dice1 = random.randint(1,6)\n",
    "    dice2 = random.randint(1,6)\n",
    "    print(f'Rolling the dice \\n Your rolling dice number \\n dice1 :{dice1} \\n dice2 :{dice2}')\n",
    "    return dice1 + dice2\n",
    "    \n",
    "def start_rolling():\n",
    "    # Ask the player if they want to roll again!\n",
    "    \n",
    "    while True:\n",
    "        player_name = input('Enter the player name : ')\n",
    "        player_answer = input(\"Do you to Roll again [Y/N] : \")\n",
    "        if player_answer in ['Y','Yes']:\n",
    "            return True\n",
    "        elif player_answer in ['N','No']:\n",
    "            return False\n",
    "        else:\n",
    "            print('Invalid answer! Please enter [Y/N]')\n",
    "\n",
    "while True:\n",
    "    total = roll_dice()\n",
    "    print(f'Total Score : {total}')\n",
    "    if not start_rolling():\n",
    "        break\n",
    "\n",
    "print('Thank You for playing ')    \n",
    "    \n",
    "\n",
    "\n"
   ]
  },
  {
   "cell_type": "code",
   "execution_count": null,
   "id": "44afe71b",
   "metadata": {},
   "outputs": [],
   "source": []
  },
  {
   "cell_type": "code",
   "execution_count": null,
   "id": "993eeaf4",
   "metadata": {},
   "outputs": [],
   "source": []
  }
 ],
 "metadata": {
  "kernelspec": {
   "display_name": "Python 3 (ipykernel)",
   "language": "python",
   "name": "python3"
  },
  "language_info": {
   "codemirror_mode": {
    "name": "ipython",
    "version": 3
   },
   "file_extension": ".py",
   "mimetype": "text/x-python",
   "name": "python",
   "nbconvert_exporter": "python",
   "pygments_lexer": "ipython3",
   "version": "3.9.7"
  }
 },
 "nbformat": 4,
 "nbformat_minor": 5
}
